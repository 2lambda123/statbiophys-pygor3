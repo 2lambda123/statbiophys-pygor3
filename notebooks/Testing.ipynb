{
 "cells": [
  {
   "cell_type": "code",
   "execution_count": 4,
   "metadata": {},
   "outputs": [
    {
     "name": "stdout",
     "output_type": "stream",
     "text": [
      "/home/alfaceor/Dropbox/PosDoc/IGoR/dev/MyGithub/IGoR/share/igor\n",
      "/home/alfaceor/Dropbox/PosDoc/IGoR/dev/MyGithub/IGoR/share/igor\n",
      "Parms filename:  /home/alfaceor/.local/share/igor/models/human/tcr_beta/models/model_parms.txt\n",
      "Margs filename:  /home/alfaceor/.local/share/igor/models/human/tcr_beta/models/model_marginals.txt\n",
      "--------------------------------------------------\n"
     ]
    }
   ],
   "source": [
    "import pygor3 as p3\n",
    "task = p3.IgorTask.load_from_batchname(\"CCC\")\n",
    "task.igor_specie = \"human\"\n",
    "task.igor_chain = \"beta\"\n",
    "task.update_batch_filenames()\n",
    "task.load_IgorModel()"
   ]
  },
  {
   "cell_type": "code",
   "execution_count": null,
   "metadata": {},
   "outputs": [],
   "source": []
  },
  {
   "cell_type": "code",
   "execution_count": 5,
   "metadata": {},
   "outputs": [
    {
     "name": "stdout",
     "output_type": "stream",
     "text": [
      "seq_index;sequence\n",
      "0;AGCAACATGAGCCCTGAAGACAGCAGCATATATCTCTGCAGCGTTGTAGTGTTGAGGGGACGGACCGGGGAGCTGTTTTTTGGAGAA\n",
      "1;CTCAGGCTGGAGTTGGCTGCTCCCTCCCAGACATCTGTGTACTTCTGTGCCAGCAGTTACGGGGGAGCCGGCTACACCTTCGGTTCG\n",
      "2;AGTTCTAAGAAGCTCCTTCTCAGTGACTCTGGCTTCTATCTCTGTGCCTGGAGCGCCGGACAGAACTATGGCTACACCTTCGGTTCG\n",
      "3;ACAGAGCGGGGGGACTCAGCCGTGTATCTCTGTGCCAGCAGCTCTGGGGCTAGCGGGGCCGCGAGAGAGACCCAGTACTTCGGGCCA\n",
      "4;ACCAGTGCCCATCCTGAAGACAGCAGCTTCTACATCTGCAGTGCTAGAGGCGGCAGGGCAAACACCGGGGAGCTGTTTTTTGGAGAA\n",
      "5;ACGATCCAGCGCACACAGCAGGAGGACTCGGCCGTGTATCTCTGTGCCAGCAGCTTCACAAACCAAGAGACCCAGTACTTCGGGCCA\n",
      "6;GTGAACGCCTTGTTGCTAGGGGACTCGGCCCTCTATCTCTGTGCCAGCAGCCCGGGGATCTATAATTCACCCCTCCACTTTGGGAAC\n",
      "7;CGCACACAGCAGGAGGACTCCGCCGTGTATCTCTGTGCCAGCAGCTTACGAGGGGGAGGCAGCAATCAGCCCCAGCATTTTGGTGAT\n",
      "8;ACGATTCAGCGCACAGAGCAGCGGGACTCAGCCATGTATCGCTGTGCTAGCAGCGTGACGAACACCGGGGAGCTGTTTTTTGGAGAA\n"
     ]
    }
   ],
   "source": [
    "# Now create a database for Indexed Sequences\n",
    "!head {task.igor_fln_indexed_sequences}"
   ]
  },
  {
   "cell_type": "code",
   "execution_count": 4,
   "metadata": {},
   "outputs": [
    {
     "data": {
      "text/plain": [
       "'./CCC.db'"
      ]
     },
     "execution_count": 4,
     "metadata": {},
     "output_type": "execute_result"
    }
   ],
   "source": [
    "task.igor_db."
   ]
  },
  {
   "cell_type": "code",
   "execution_count": 5,
   "metadata": {},
   "outputs": [
    {
     "name": "stdout",
     "output_type": "stream",
     "text": [
      "./CCC.db: cannot open `./CCC.db' (No such file or directory)\n"
     ]
    }
   ],
   "source": [
    "!file {task.igor_db}"
   ]
  },
  {
   "cell_type": "code",
   "execution_count": 39,
   "metadata": {},
   "outputs": [
    {
     "data": {
      "text/plain": [
       "['seq_index',\n",
       " 'scenario_rank',\n",
       " 'scenario_proba_cond_seq',\n",
       " 'v_choice',\n",
       " 'j_choice',\n",
       " 'd_gene',\n",
       " 'v_3_del',\n",
       " 'd_5_del',\n",
       " 'd_3_del',\n",
       " 'j_5_del',\n",
       " 'vd_ins',\n",
       " 'vd_dinucl',\n",
       " 'dj_ins',\n",
       " 'dj_dinucl',\n",
       " 'mismatches',\n",
       " 'mismatcheslen']"
      ]
     },
     "execution_count": 39,
     "metadata": {},
     "output_type": "execute_result"
    }
   ],
   "source": [
    "import pygor3 as p3\n",
    "bs0 = p3.IgorBestScenariosVDJ()\n",
    "aaa=str(bs0)\n",
    "aaa=eval(aaa)\n",
    "list(aaa.keys())"
   ]
  },
  {
   "cell_type": "code",
   "execution_count": 2,
   "metadata": {},
   "outputs": [
    {
     "name": "stdout",
     "output_type": "stream",
     "text": [
      "<class 'pygor3.IgorBestScenarios.IgorBestScenariosVDJ'>\n"
     ]
    }
   ],
   "source": [
    "print(bs)"
   ]
  },
  {
   "cell_type": "code",
   "execution_count": 63,
   "metadata": {},
   "outputs": [
    {
     "name": "stdout",
     "output_type": "stream",
     "text": [
      "     1\tseq_index;scenario_rank;scenario_proba_cond_seq;GeneChoice_V_gene_Undefined_side_prio7_size89;GeneChoice_J_gene_Undefined_side_prio7_size15;GeneChoice_D_gene_Undefined_side_prio6_size3;Deletion_V_gene_Three_prime_prio5_size21;Deletion_D_gene_Five_prime_prio5_size21;Deletion_D_gene_Three_prime_prio5_size21;Deletion_J_gene_Five_prime_prio5_size23;Insertion_VD_genes_Undefined_side_prio4_size31;DinucMarkov_VD_genes_Undefined_side_prio3_size16;Insertion_DJ_gene_Undefined_side_prio2_size31;DinucMarkov_DJ_gene_Undefined_side_prio1_size16;Mismatches\n",
      "     2\t17;1;0.0440476;(31);(8);(2);(8);(7);(15);(4);(0);();(0);();()\n",
      "     3\t17;2;0.0332147;(31);(8);(2);(8);(7);(16);(4);(0);();(1);(1);()\n",
      "     4\t17;3;0.0226536;(31);(8);(1);(8);(7);(15);(4);(0);();(0);();()\n",
      "     5\t17;4;0.0180412;(31);(8);(2);(8);(5);(19);(4);(2);(0,1);(0);();()\n",
      "     6\t17;5;0.0178797;(31);(8);(2);(8);(6);(18);(4);(0);();(2);(1,0);()\n",
      "     7\t19;1;0.260819;(26);(4);(0);(7);(7);(6);(3);(5);(0,1,2,2,1);(2);(2,3);()\n",
      "     8\t19;2;0.125907;(26);(4);(0);(7);(7);(7);(3);(5);(0,1,2,2,1);(3);(2,3,2);()\n",
      "     9\t19;3;0.0975333;(26);(4);(0);(6);(7);(6);(3);(4);(1,2,2,1);(2);(2,3);()\n",
      "    10\t19;4;0.0623081;(26);(4);(0);(7);(7);(6);(4);(5);(0,1,2,2,1);(3);(0,2,3);()\n",
      "    11\t19;5;0.0470827;(26);(4);(0);(6);(7);(7);(3);(4);(1,2,2,1);(3);(2,3,2);()\n",
      "    12\t16;1;0.180785;(17);(0);(0);(3);(8);(7);(5);(0);();(0);();()\n",
      "    13\t16;2;0.0436865;(17);(0);(0);(6);(7);(7);(5);(2);(2,3);(0);();()\n",
      "    14\t16;3;0.0429532;(17);(0);(0);(4);(7);(7);(5);(0);();(0);();()\n",
      "    15\t16;4;0.0427022;(17);(0);(0);(3);(8);(9);(5);(0);();(2);(2,2);()\n",
      "    16\t16;5;0.0403264;(17);(0);(0);(3);(8);(8);(5);(0);();(1);(2);()\n",
      "    17\t18;1;0.202243;(60);(7);(1);(8);(2);(12);(16);(3);(3,3,3);(0);();(71,73)\n",
      "    18\t18;2;0.197968;(59);(7);(1);(8);(2);(12);(16);(3);(3,3,3);(0);();(71,73)\n",
      "    19\t18;3;0.0579932;(59);(7);(1);(9);(2);(12);(16);(4);(3,3,3,3);(0);();(71,73)\n",
      "    20\t18;4;0.0488489;(60);(7);(1);(9);(2);(12);(16);(4);(3,3,3,3);(0);();(71,73)\n",
      "    21\t18;5;0.0376093;(60);(7);(1);(8);(4);(12);(16);(5);(3,3,3,1,1);(0);();(71,73)\n",
      "    22\t5;1;0.0548707;(69);(11);(0);(8);(7);(10);(6);(2);(3,1);(3);(1,0,0);()\n",
      "    23\t5;2;0.0548385;(70);(11);(0);(8);(7);(10);(6);(2);(3,1);(3);(1,0,0);()\n",
      "    24\t5;3;0.051889;(69);(11);(0);(7);(7);(10);(6);(1);(1);(3);(1,0,0);()\n",
      "    25\t5;4;0.0518483;(70);(11);(0);(7);(7);(10);(6);(1);(1);(3);(1,0,0);()\n",
      "    26\t5;5;0.0458606;(69);(11);(0);(8);(7);(10);(5);(2);(3,1);(2);(0,0);()\n",
      "    27\t2;1;0.312159;(42);(1);(0);(7);(5);(9);(6);(4);(1,2,1,1);(0);();()\n",
      "    28\t2;2;0.102346;(42);(1);(0);(7);(5);(9);(8);(4);(1,2,1,1);(2);(0,0);()\n",
      "    29\t2;3;0.0923304;(42);(1);(0);(8);(5);(9);(6);(5);(2,1,2,1,1);(0);();()\n",
      "    30\t2;4;0.0847894;(42);(1);(0);(7);(5);(9);(7);(4);(1,2,1,1);(1);(0);()\n",
      "    31\t2;5;0.0394455;(42);(1);(0);(7);(6);(9);(6);(5);(1,2,1,1,2);(0);();()\n",
      "    32\t4;1;0.444024;(29);(8);(0);(5);(8);(7);(6);(4);(2,1,2,2);(2);(0,1);()\n",
      "    33\t4;2;0.129722;(29);(8);(0);(5);(8);(7);(7);(4);(2,1,2,2);(3);(0,0,1);()\n",
      "    34\t4;3;0.0706754;(29);(8);(0);(5);(8);(7);(8);(4);(2,1,2,2);(4);(0,0,0,1);()\n",
      "    35\t4;4;0.0569819;(29);(8);(0);(6);(8);(7);(6);(5);(2,2,1,2,2);(2);(0,1);()\n",
      "    36\t4;5;0.0443786;(29);(8);(0);(5);(8);(8);(6);(4);(2,1,2,2);(3);(0,1,2);()\n",
      "    37\t6;1;0.145365;(55);(6);(0);(8);(11);(5);(7);(2);(1,1);(2);(3,0);(17)\n",
      "    38\t6;2;0.0672897;(55);(6);(0);(8);(11);(5);(8);(2);(1,1);(3);(1,3,0);(17)\n",
      "    39\t6;3;0.0662259;(55);(6);(0);(8);(10);(6);(7);(2);(1,1);(2);(3,0);(17)\n",
      "    40\t6;4;0.0395124;(55);(6);(0);(8);(12);(5);(7);(2);(1,1);(3);(3,0,2);(17)\n",
      "    41\t6;5;0.0306561;(55);(6);(0);(8);(10);(6);(8);(2);(1,1);(3);(1,3,0);(17)\n",
      "    42\t3;1;0.395908;(73);(11);(1);(8);(8);(7);(8);(6);(1,3,2,2,2,2);(7);(2,0,2,1,2,1,1);()\n",
      "    43\t3;2;0.155941;(73);(11);(1);(8);(8);(7);(9);(6);(1,3,2,2,2,2);(8);(0,2,0,2,1,2,1,1);()\n",
      "    44\t3;3;0.115015;(73);(11);(1);(9);(8);(7);(8);(7);(3,1,3,2,2,2,2);(7);(2,0,2,1,2,1,1);()\n",
      "    45\t3;4;0.0547753;(73);(11);(1);(8);(9);(7);(8);(7);(1,3,2,2,2,2,1);(7);(2,0,2,1,2,1,1);()\n",
      "    46\t3;5;0.0522827;(73);(11);(1);(8);(8);(8);(8);(6);(1,3,2,2,2,2);(8);(2,0,2,1,2,1,1,2);()\n",
      "    47\t8;1;0.0944116;(80);(8);(1);(9);(6);(15);(5);(2);(2,3);(0);();()\n",
      "    48\t8;2;0.0741844;(80);(8);(0);(9);(6);(11);(5);(2);(2,3);(0);();()\n",
      "    49\t8;3;0.0519349;(80);(8);(1);(9);(6);(15);(6);(2);(2,3);(1);(2);()\n",
      "    50\t8;4;0.0408081;(80);(8);(0);(9);(6);(11);(6);(2);(2,3);(1);(2);()\n",
      "    51\t8;5;0.0389495;(80);(8);(2);(9);(6);(15);(5);(2);(2,3);(0);();()\n",
      "    52\t1;1;0.0869022;(64);(1);(1);(7);(12);(6);(12);(0);();(4);(1,1,2,0);()\n",
      "    53\t1;2;0.086837;(63);(1);(1);(7);(12);(6);(12);(0);();(4);(1,1,2,0);()\n",
      "    54\t1;3;0.0472684;(64);(1);(1);(7);(12);(7);(12);(0);();(5);(1,1,2,0,2);()\n",
      "    55\t1;4;0.047233;(63);(1);(1);(7);(12);(7);(12);(0);();(5);(1,1,2,0,2);()\n",
      "    56\t1;5;0.02142;(63);(1);(1);(9);(12);(6);(12);(2);(3,0);(4);(1,1,2,0);()\n",
      "    57\t9;1;0.0830978;(28);(11);(0);(10);(8);(8);(8);(4);(2,2,2,2);(1);(3);()\n",
      "    58\t9;2;0.0751573;(27);(11);(0);(10);(8);(8);(8);(4);(2,2,2,2);(1);(3);()\n",
      "    59\t9;3;0.073149;(28);(11);(0);(10);(8);(8);(9);(4);(2,2,2,2);(2);(0,3);()\n",
      "    60\t9;4;0.0661592;(27);(11);(0);(10);(8);(8);(9);(4);(2,2,2,2);(2);(0,3);()\n",
      "    61\t9;5;0.0552727;(28);(11);(0);(10);(8);(9);(8);(4);(2,2,2,2);(2);(3,2);()\n",
      "    62\t10;1;0.0951136;(35);(0);(2);(6);(17);(3);(20);(3);(1,2,3);(10);(2,2,3,3,2,2,1,0,2,3);(77)\n",
      "    63\t10;2;0.0854586;(35);(0);(0);(6);(6);(11);(20);(8);(1,2,3,2,2,2,1,3);(6);(2,2,3,3,2,2);(77)\n",
      "    64\t10;3;0.0795903;(35);(0);(2);(6);(6);(15);(20);(8);(1,2,3,2,2,2,1,3);(6);(2,2,3,3,2,2);(77)\n",
      "    65\t10;4;0.0669697;(35);(0);(0);(6);(12);(4);(20);(3);(1,2,3);(10);(2,2,3,3,2,2,1,0,2,3);(77)\n",
      "    66\t10;5;0.059529;(35);(0);(2);(7);(17);(3);(20);(4);(0,1,2,3);(10);(2,2,3,3,2,2,1,0,2,3);(77)\n",
      "    67\t7;1;0.109048;(81);(4);(2);(6);(15);(4);(5);(1);(1);(6);(1,2,2,0,2,2);()\n",
      "    68\t7;2;0.0872785;(81);(4);(2);(6);(13);(5);(5);(5);(1,2,0,2,2);(1);(1);()\n",
      "    69\t7;3;0.0653817;(81);(4);(2);(6);(13);(5);(6);(5);(1,2,0,2,2);(2);(0,1);()\n",
      "    70\t7;4;0.0437485;(81);(4);(2);(6);(13);(7);(5);(5);(1,2,0,2,2);(3);(1,2,2);()\n",
      "    71\t7;5;0.0430056;(81);(4);(2);(6);(16);(4);(5);(2);(1,2);(6);(1,2,2,0,2,2);()\n",
      "    72\t0;1;0.117948;(36);(8);(2);(8);(15);(4);(9);(7);(3,0,2,3,2,3,3);(5);(2,2,1,0,2);()\n",
      "    73\t0;2;0.117596;(37);(8);(2);(8);(15);(4);(9);(7);(3,0,2,3,2,3,3);(5);(2,2,1,0,2);()\n",
      "    74\t0;3;0.0282379;(36);(8);(0);(8);(9);(6);(9);(8);(3,0,2,3,2,3,3,2);(4);(2,2,1,0);()\n",
      "    75\t0;4;0.0282128;(37);(8);(0);(8);(9);(6);(9);(8);(3,0,2,3,2,3,3,2);(4);(2,2,1,0);()\n",
      "    76\t0;5;0.0190059;(36);(8);(2);(8);(4);(15);(9);(10);(3,0,2,3,2,3,3,2,0,2);(2);(2,2);()\n",
      "    77\t11;1;0.171631;(88);(1);(0);(7);(9);(6);(11);(0);();(5);(2,2,3,3,1);()\n",
      "    78\t11;2;0.130857;(88);(1);(0);(7);(11);(4);(11);(1);(0);(4);(2,2,3,3);()\n",
      "    79\t11;3;0.0721085;(88);(1);(0);(8);(11);(4);(11);(2);(2,0);(4);(2,2,3,3);()\n",
      "    80\t11;4;0.0430597;(88);(1);(0);(8);(9);(6);(11);(1);(2);(5);(2,2,3,3,1);()\n",
      "    81\t11;5;0.039449;(88);(1);(0);(7);(9);(6);(12);(0);();(6);(3,2,2,3,3,1);()\n",
      "    82\t13;1;0.111541;(57);(3);(0);(14);(11);(5);(9);(13);(2,3,1,2,0,0,2,1,2,1,3,1,1);(1);(2);()\n",
      "    83\t13;2;0.0628513;(57);(3);(0);(14);(11);(5);(10);(13);(2,3,1,2,0,0,2,1,2,1,3,1,1);(2);(0,2);()\n",
      "    84\t13;3;0.0591941;(57);(3);(0);(14);(12);(5);(9);(13);(2,3,1,2,0,0,2,1,2,1,3,1,1);(2);(2,2);()\n",
      "    85\t13;4;0.0508164;(57);(3);(0);(14);(10);(6);(9);(13);(2,3,1,2,0,0,2,1,2,1,3,1,1);(1);(2);()\n",
      "    86\t13;5;0.0450073;(57);(3);(0);(14);(11);(6);(9);(13);(2,3,1,2,0,0,2,1,2,1,3,1,1);(2);(2,2);()\n",
      "    87\t14;1;0.221708;(49);(12);(0);(6);(6);(7);(6);(1);(3);(0);();()\n",
      "    88\t14;2;0.168844;(49);(12);(0);(7);(6);(7);(6);(2);(3,3);(0);();()\n",
      "    89\t14;3;0.0806854;(49);(12);(0);(8);(6);(7);(6);(3);(3,3,3);(0);();()\n",
      "    90\t14;4;0.0626278;(49);(12);(0);(6);(7);(7);(6);(2);(3,2);(0);();()\n",
      "    91\t14;5;0.035004;(49);(12);(0);(6);(8);(7);(6);(3);(3,2,0);(0);();()\n",
      "    92\t15;1;0.445392;(81);(0);(0);(6);(13);(4);(7);(5);(2,3,1,2,3);(2);(3,0);()\n",
      "    93\t15;2;0.136203;(81);(0);(0);(6);(13);(4);(8);(5);(2,3,1,2,3);(3);(0,3,0);()\n",
      "    94\t15;3;0.0998498;(81);(0);(0);(6);(13);(5);(7);(5);(2,3,1,2,3);(3);(3,0,1);()\n",
      "    95\t15;4;0.03291;(81);(0);(0);(6);(13);(5);(8);(5);(2,3,1,2,3);(4);(0,3,0,1);()\n",
      "    96\t15;5;0.0244617;(81);(0);(0);(6);(13);(4);(9);(5);(2,3,1,2,3);(4);(1,0,3,0);()\n",
      "    97\t12;1;0.177428;(60);(4);(0);(8);(7);(4);(11);(1);(1);(4);(2,2,2,0);()\n",
      "    98\t12;2;0.170648;(59);(4);(0);(8);(7);(4);(11);(1);(1);(4);(2,2,2,0);()\n",
      "    99\t12;3;0.0879212;(59);(4);(0);(9);(7);(4);(11);(2);(3,1);(4);(2,2,2,0);()\n",
      "   100\t12;4;0.0753727;(60);(4);(0);(9);(7);(4);(11);(2);(3,1);(4);(2,2,2,0);()\n",
      "   101\t12;5;0.059337;(60);(4);(0);(8);(8);(4);(11);(2);(1,0);(4);(2,2,2,0);()\n"
     ]
    },
    {
     "data": {
      "text/plain": [
       "<pygor3.IgorIO.IgorModel at 0x7f78744a8d50>"
      ]
     },
     "execution_count": 63,
     "metadata": {},
     "output_type": "execute_result"
    }
   ],
   "source": [
    "!cat -n {task.igor_fln_output_scenarios}\n",
    "task.mdl"
   ]
  },
  {
   "cell_type": "code",
   "execution_count": 24,
   "metadata": {},
   "outputs": [
    {
     "name": "stdout",
     "output_type": "stream",
     "text": [
      "['seq_index', 'scenario_rank', 'scenario_proba_cond_seq', 'GeneChoice_V_gene_Undefined_side_prio7_size89', 'GeneChoice_J_gene_Undefined_side_prio7_size15', 'GeneChoice_D_gene_Undefined_side_prio6_size3', 'Deletion_V_gene_Three_prime_prio5_size21', 'Deletion_D_gene_Five_prime_prio5_size21', 'Deletion_D_gene_Three_prime_prio5_size21', 'Deletion_J_gene_Five_prime_prio5_size23', 'Insertion_VD_genes_Undefined_side_prio4_size31', 'DinucMarkov_VD_genes_Undefined_side_prio3_size16', 'Insertion_DJ_gene_Undefined_side_prio2_size31', 'DinucMarkov_DJ_gene_Undefined_side_prio1_size16', 'Mismatches\\n'] 15\n",
      "['17', '1', '0.0440476', '(31)', '(8)', '(2)', '(8)', '(7)', '(15)', '(4)', '(0)', '()', '(0)', '()', '()\\n'] 15\n",
      "31 <class 'str'> 2\n",
      "{'seq_index': 17, 'scenario_rank': 1, 'scenario_proba_cond_seq': 0.0440476, 'v_choice': 31, 'j_choice': 8, 'd_gene': 2, 'v_3_del': 8, 'd_5_del': 7, 'd_3_del': 15, 'j_5_del': 4, 'vd_ins': 0, 'vd_dinucl': (), 'dj_ins': 0, 'dj_dinucl': (), 'mismatches': (), 'mismatcheslen': 0}\n"
     ]
    }
   ],
   "source": [
    "# open file\n",
    "strSepChar=\";\"\n",
    "# Open file to write events\n",
    "with open(task.igor_fln_output_scenarios, \"r\") as ofile:\n",
    "    aaa = ofile.readline()\n",
    "    print(aaa.split(strSepChar), len(aaa.split(strSepChar)) )\n",
    "    line = ofile.readline()\n",
    "    print(line.split(strSepChar), len(line.split(strSepChar)) )\n",
    "    bs = p3.IgorBestScenariosVDJ.load_FromLineBestScenario(line)\n",
    "    bs.mdlParms = task.mdl.parms\n",
    "    print(bs)    \n",
    "    "
   ]
  },
  {
   "cell_type": "code",
   "execution_count": 40,
   "metadata": {},
   "outputs": [
    {
     "data": {
      "text/plain": [
       "16"
      ]
     },
     "execution_count": 40,
     "metadata": {},
     "output_type": "execute_result"
    }
   ],
   "source": [
    "len( list( bs.to_dict_names().keys() ) )\n"
   ]
  },
  {
   "cell_type": "code",
   "execution_count": null,
   "metadata": {},
   "outputs": [],
   "source": []
  },
  {
   "cell_type": "code",
   "execution_count": null,
   "metadata": {},
   "outputs": [],
   "source": []
  },
  {
   "cell_type": "code",
   "execution_count": 53,
   "metadata": {},
   "outputs": [
    {
     "data": {
      "text/plain": [
       "'seq_index;scenario_rank;scenario_proba_cond_seq;v_choice;j_choice;d_gene;v_3_del;d_5_del;d_3_del;j_5_del;vd_ins;vd_dinucl;dj_ins;dj_dinucl;mismatches;mismatcheslen'"
      ]
     },
     "execution_count": 53,
     "metadata": {},
     "output_type": "execute_result"
    }
   ],
   "source": [
    "bs0 = p3.IgorBestScenariosVDJ()\n",
    "bsHeaderList=list( eval(str(bs0)).keys() )\n",
    "strHeader = \";\".join(bsHeaderList)\n",
    "strHeader"
   ]
  },
  {
   "cell_type": "code",
   "execution_count": 5,
   "metadata": {},
   "outputs": [
    {
     "name": "stdout",
     "output_type": "stream",
     "text": [
      "/home/alfaceor/Dropbox/PosDoc/IGoR/dev/MyGithub/IGoR/share/igor\n",
      "/home/alfaceor/Dropbox/PosDoc/IGoR/dev/MyGithub/IGoR/share/igor\n",
      "Parms filename:  /home/alfaceor/.local/share/igor/models/human/tcr_beta/models/model_parms.txt\n",
      "Margs filename:  /home/alfaceor/.local/share/igor/models/human/tcr_beta/models/model_marginals.txt\n",
      "--------------------------------------------------\n",
      "Exported scenarios in : CCC_output_scenarios_names.csv\n"
     ]
    }
   ],
   "source": [
    "import pygor3 as p3\n",
    "task = p3.IgorTask.load_from_batchname(\"CCC\")\n",
    "task.igor_specie = \"human\"\n",
    "task.igor_chain = \"beta\"\n",
    "task.update_batch_filenames()\n",
    "task.load_IgorModel()\n",
    "\n",
    "strSepChar=';'\n",
    "\n",
    "bs0 = p3.IgorBestScenariosVDJ()\n",
    "bsHeaderList=list( eval(str(bs0)).keys() )\n",
    "strHeader = \";\".join(bsHeaderList)\n",
    "fln_output_scenarios_names = task.igor_batchname+\"_output_scenarios_names.csv\"\n",
    "ofile = open(fln_output_scenarios_names, \"w\")\n",
    "ofile.write(strHeader+'\\n')\n",
    "\n",
    "with open(task.igor_fln_output_scenarios, \"r\") as ifile:\n",
    "    inputHeader = ifile.readline()\n",
    "    \n",
    "    for line in ifile.readlines():\n",
    "        #print(line.split(strSepChar), len(line.split(strSepChar)) )\n",
    "        line = line.replace(\"\\n\",\"\")\n",
    "        bs = p3.IgorBestScenariosVDJ.load_FromLineBestScenario(line)\n",
    "        bs.mdlParms = task.mdl.parms\n",
    "        #print(bs)\n",
    "        aaa = strSepChar.join( list(map(str, bs.to_dict_names().values() ) ) )\n",
    "        ofile.write(aaa)\n",
    "\n",
    "ofile.close()\n",
    "print(\"Exported scenarios in :\", fln_output_scenarios_names)"
   ]
  },
  {
   "cell_type": "code",
   "execution_count": 6,
   "metadata": {},
   "outputs": [
    {
     "name": "stdout",
     "output_type": "stream",
     "text": [
      "seq_index;scenario_rank;scenario_proba_cond_seq;v_choice;j_choice;d_gene;v_3_del;d_5_del;d_3_del;j_5_del;vd_ins;vd_dinucl;dj_ins;dj_dinucl;mismatches;mismatcheslen\n",
      "17;1;0.0440476;M11951|TRBV24-1*01|Homo sapiens|F|V-REGION|189..476|288 nt|1| | | | |288+0=288| | |;X02987|TRBJ2-2*01|Homo sapiens|F|J-REGION|995..1045|51 nt|3| | | | |51+0=51| | |; TRBD2*02;4;3;11;0;0;[];0;[];[];017;2;0.0332147;M11951|TRBV24-1*01|Homo sapiens|F|V-REGION|189..476|288 nt|1| | | | |288+0=288| | |;X02987|TRBJ2-2*01|Homo sapiens|F|J-REGION|995..1045|51 nt|3| | | | |51+0=51| | |; TRBD2*02;4;3;12;0;0;[];1;[1];[];017;3;0.0226536;M11951|TRBV24-1*01|Homo sapiens|F|V-REGION|189..476|288 nt|1| | | | |288+0=288| | |;X02987|TRBJ2-2*01|Homo sapiens|F|J-REGION|995..1045|51 nt|3| | | | |51+0=51| | |; TRBD2*01;4;3;11;0;0;[];0;[];[];017;4;0.0180412;M11951|TRBV24-1*01|Homo sapiens|F|V-REGION|189..476|288 nt|1| | | | |288+0=288| | |;X02987|TRBJ2-2*01|Homo sapiens|F|J-REGION|995..1045|51 nt|3| | | | |51+0=51| | |; TRBD2*02;4;1;15;0;2;[0, 1];0;[];[];017;5;0.0178797;M11951|TRBV24-1*01|Homo sapiens|F|V-REGION|189..476|288 nt|1| | | | |288+0=288| | |;X02987|TRBJ2-2*01|Homo sapiens|F|J-REGION|995..1045|51 nt|3| | | | |51+0=51| | |; TRBD2*02;4;2;14;0;0;[];2;[1, 0];[];019;1;0.260819;L36092|TRBV19*01|Homo sapiens|F|V-REGION|453995..454281|287 nt|1| | | | |287+0=287| | |;M14158|TRBJ1-5*01|Homo sapiens|F|J-REGION|2368..2417|50 nt|2| | | | |50+0=50| | |; TRBD1*01;3;3;2;-1;5;[0, 1, 2, 2, 1];2;[2, 3];[];019;2;0.125907;L36092|TRBV19*01|Homo sapiens|F|V-REGION|453995..454281|287 nt|1| | | | |287+0=287| | |;M14158|TRBJ1-5*01|Homo sapiens|F|J-REGION|2368..2417|50 nt|2| | | | |50+0=50| | |; TRBD1*01;3;3;3;-1;5;[0, 1, 2, 2, 1];3;[2, 3, 2];[];019;3;0.0975333;L36092|TRBV19*01|Homo sapiens|F|V-REGION|453995..454281|287 nt|1| | | | |287+0=287| | |;M14158|TRBJ1-5*01|Homo sapiens|F|J-REGION|2368..2417|50 nt|2| | | | |50+0=50| | |; TRBD1*01;2;3;2;-1;4;[1, 2, 2, 1];2;[2, 3];[];019;4;0.0623081;L36092|TRBV19*01|Homo sapiens|F|V-REGION|453995..454281|287 nt|1| | | | |287+0=287| | |;M14158|TRBJ1-5*01|Homo sapiens|F|J-REGION|2368..2417|50 nt|2| | | | |50+0=50| | |; TRBD1*01;3;3;2;0;5;[0, 1, 2, 2, 1];3;[0, 2, 3];[];019;5;0.0470827;L36092|TRBV19*01|Homo sapiens|F|V-REGION|453995..454281|287 nt|1| | | | |287+0=287| | |;M14158|TRBJ1-5*01|Homo sapiens|F|J-REGION|2368..2417|50 nt|2| | | | |50+0=50| | |; TRBD1*01;2;3;3;-1;4;[1, 2, 2, 1];3;[2, 3, 2];[];016;1;0.180785;X07223|TRBV12-5*01|Homo sapiens|F|V-REGION|392..681|290 nt|1| | | | |290+0=290| | |;K02545|TRBJ1-1*01|Homo sapiens|F|J-REGION|749..796|48 nt|3| | | | |48+0=48| | |; TRBD1*01;-1;4;3;1;0;[];0;[];[];016;2;0.0436865;X07223|TRBV12-5*01|Homo sapiens|F|V-REGION|392..681|290 nt|1| | | | |290+0=290| | |;K02545|TRBJ1-1*01|Homo sapiens|F|J-REGION|749..796|48 nt|3| | | | |48+0=48| | |; TRBD1*01;2;3;3;1;2;[2, 3];0;[];[];016;3;0.0429532;X07223|TRBV12-5*01|Homo sapiens|F|V-REGION|392..681|290 nt|1| | | | |290+0=290| | |;K02545|TRBJ1-1*01|Homo sapiens|F|J-REGION|749..796|48 nt|3| | | | |48+0=48| | |; TRBD1*01;0;3;3;1;0;[];0;[];[];016;4;0.0427022;X07223|TRBV12-5*01|Homo sapiens|F|V-REGION|392..681|290 nt|1| | | | |290+0=290| | |;K02545|TRBJ1-1*01|Homo sapiens|F|J-REGION|749..796|48 nt|3| | | | |48+0=48| | |; TRBD1*01;-1;4;5;1;0;[];2;[2, 2];[];016;5;0.0403264;X07223|TRBV12-5*01|Homo sapiens|F|V-REGION|392..681|290 nt|1| | | | |290+0=290| | |;K02545|TRBJ1-1*01|Homo sapiens|F|J-REGION|749..796|48 nt|3| | | | |48+0=48| | |; TRBD1*01;-1;4;4;1;0;[];1;[2];[];018;1;0.202243;U07978|TRBV6-3*01|Homo sapiens|F|V-REGION|29129..29415|287 nt|1| | | | |287+0=287| | |;X02987|TRBJ2-1*01|Homo sapiens|F|J-REGION|800..849|50 nt|2| | | | |50+0=50| | |; TRBD2*01;4;-2;8;12;3;[3, 3, 3];0;[];[71, 73];218;2;0.197968;X61445|TRBV6-2*01|Homo sapiens|F|V-REGION|412..698|287 nt|1| | | | |287+0=287| | |;X02987|TRBJ2-1*01|Homo sapiens|F|J-REGION|800..849|50 nt|2| | | | |50+0=50| | |; TRBD2*01;4;-2;8;12;3;[3, 3, 3];0;[];[71, 73];218;3;0.0579932;X61445|TRBV6-2*01|Homo sapiens|F|V-REGION|412..698|287 nt|1| | | | |287+0=287| | |;X02987|TRBJ2-1*01|Homo sapiens|F|J-REGION|800..849|50 nt|2| | | | |50+0=50| | |; TRBD2*01;5;-2;8;12;4;[3, 3, 3, 3];0;[];[71, 73];218;4;0.0488489;U07978|TRBV6-3*01|Homo sapiens|F|V-REGION|29129..29415|287 nt|1| | | | |287+0=287| | |;X02987|TRBJ2-1*01|Homo sapiens|F|J-REGION|800..849|50 nt|2| | | | |50+0=50| | |; TRBD2*01;5;-2;8;12;4;[3, 3, 3, 3];0;[];[71, 73];218;5;0.0376093;U07978|TRBV6-3*01|Homo sapiens|F|V-REGION|29129..29415|287 nt|1| | | | |287+0=287| | |;X02987|TRBJ2-1*01|Homo sapiens|F|J-REGION|800..849|50 nt|2| | | | |50+0=50| | |; TRBD2*01;4;0;8;12;5;[3, 3, 3, 1, 1];0;[];[71, 73];25;1;0.0548707;X61442|TRBV7-2*01|Homo sapiens|F|V-REGION|545..834|290 nt|1| | | | |290+0=290| | |;X02987|TRBJ2-5*01|Homo sapiens|F|J-REGION|1553..1600|48 nt|3| | | | |48+0=48| | |; TRBD1*01;4;3;6;2;2;[3, 1];3;[1, 0, 0];[];05;2;0.0548385;X61443|TRBV7-2*02|Homo sapiens|F|V-REGION|192..475|284 nt|1| | | | |284+0=284| Extended by 6 | |;X02987|TRBJ2-5*01|Homo sapiens|F|J-REGION|1553..1600|48 nt|3| | | | |48+0=48| | |; TRBD1*01;4;3;6;2;2;[3, 1];3;[1, 0, 0];[];05;3;0.051889;X61442|TRBV7-2*01|Homo sapiens|F|V-REGION|545..834|290 nt|1| | | | |290+0=290| | |;X02987|TRBJ2-5*01|Homo sapiens|F|J-REGION|1553..1600|48 nt|3| | | | |48+0=48| | |; TRBD1*01;3;3;6;2;1;[1];3;[1, 0, 0];[];05;4;0.0518483;X61443|TRBV7-2*02|Homo sapiens|F|V-REGION|192..475|284 nt|1| | | | |284+0=284| Extended by 6 | |;X02987|TRBJ2-5*01|Homo sapiens|F|J-REGION|1553..1600|48 nt|3| | | | |48+0=48| | |; TRBD1*01;3;3;6;2;1;[1];3;[1, 0, 0];[];05;5;0.0458606;X61442|TRBV7-2*01|Homo sapiens|F|V-REGION|545..834|290 nt|1| | | | |290+0=290| | |;X02987|TRBJ2-5*01|Homo sapiens|F|J-REGION|1553..1600|48 nt|3| | | | |48+0=48| | |; TRBD1*01;4;3;6;1;2;[3, 1];2;[0, 0];[];02;1;0.312159;U66061|TRBV30*01|Homo sapiens|F|V-REGION|214317..214600|284 nt|1| | | | |284+0=284| |rev-compl|;K02545|TRBJ1-2*01|Homo sapiens|F|J-REGION|886..933|48 nt|3| | | | |48+0=48| | |; TRBD1*01;3;1;5;2;4;[1, 2, 1, 1];0;[];[];02;2;0.102346;U66061|TRBV30*01|Homo sapiens|F|V-REGION|214317..214600|284 nt|1| | | | |284+0=284| |rev-compl|;K02545|TRBJ1-2*01|Homo sapiens|F|J-REGION|886..933|48 nt|3| | | | |48+0=48| | |; TRBD1*01;3;1;5;4;4;[1, 2, 1, 1];2;[0, 0];[];02;3;0.0923304;U66061|TRBV30*01|Homo sapiens|F|V-REGION|214317..214600|284 nt|1| | | | |284+0=284| |rev-compl|;K02545|TRBJ1-2*01|Homo sapiens|F|J-REGION|886..933|48 nt|3| | | | |48+0=48| | |; TRBD1*01;4;1;5;2;5;[2, 1, 2, 1, 1];0;[];[];02;4;0.0847894;U66061|TRBV30*01|Homo sapiens|F|V-REGION|214317..214600|284 nt|1| | | | |284+0=284| |rev-compl|;K02545|TRBJ1-2*01|Homo sapiens|F|J-REGION|886..933|48 nt|3| | | | |48+0=48| | |; TRBD1*01;3;1;5;3;4;[1, 2, 1, 1];1;[0];[];02;5;0.0394455;U66061|TRBV30*01|Homo sapiens|F|V-REGION|214317..214600|284 nt|1| | | | |284+0=284| |rev-compl|;K02545|TRBJ1-2*01|Homo sapiens|F|J-REGION|886..933|48 nt|3| | | | |48+0=48| | |; TRBD1*01;3;2;5;2;5;[1, 2, 1, 1, 2];0;[];[];04;1;0.444024;M11955|TRBV20-1*01|Homo sapiens|F|V-REGION|427..719|293 nt|1| | | | |293+0=293| | |;X02987|TRBJ2-2*01|Homo sapiens|F|J-REGION|995..1045|51 nt|3| | | | |51+0=51| | |; TRBD1*01;1;4;3;2;4;[2, 1, 2, 2];2;[0, 1];[];04;2;0.129722;M11955|TRBV20-1*01|Homo sapiens|F|V-REGION|427..719|293 nt|1| | | | |293+0=293| | |;X02987|TRBJ2-2*01|Homo sapiens|F|J-REGION|995..1045|51 nt|3| | | | |51+0=51| | |; TRBD1*01;1;4;3;3;4;[2, 1, 2, 2];3;[0, 0, 1];[];04;3;0.0706754;M11955|TRBV20-1*01|Homo sapiens|F|V-REGION|427..719|293 nt|1| | | | |293+0=293| | |;X02987|TRBJ2-2*01|Homo sapiens|F|J-REGION|995..1045|51 nt|3| | | | |51+0=51| | |; TRBD1*01;1;4;3;4;4;[2, 1, 2, 2];4;[0, 0, 0, 1];[];04;4;0.0569819;M11955|TRBV20-1*01|Homo sapiens|F|V-REGION|427..719|293 nt|1| | | | |293+0=293| | |;X02987|TRBJ2-2*01|Homo sapiens|F|J-REGION|995..1045|51 nt|3| | | | |51+0=51| | |; TRBD1*01;2;4;3;2;5;[2, 2, 1, 2, 2];2;[0, 1];[];04;5;0.0443786;M11955|TRBV20-1*01|Homo sapiens|F|V-REGION|427..719|293 nt|1| | | | |293+0=293| | |;X02987|TRBJ2-2*01|Homo sapiens|F|J-REGION|995..1045|51 nt|3| | | | |51+0=51| | |; TRBD1*01;1;4;4;2;4;[2, 1, 2, 2];3;[0, 1, 2];[];06;1;0.145365;L36092|TRBV5-6*01|Homo sapiens|F|V-REGION|314963..315248|286 nt|1| | | | |286+0=286| | |;L36092|TRBJ1-6*02|Homo sapiens|F|J-REGION|643043..643095|53 nt|2| | | | |53+0=53| | |; TRBD1*01;4;7;1;3;2;[1, 1];2;[3, 0];[17];16;2;0.0672897;L36092|TRBV5-6*01|Homo sapiens|F|V-REGION|314963..315248|286 nt|1| | | | |286+0=286| | |;L36092|TRBJ1-6*02|Homo sapiens|F|J-REGION|643043..643095|53 nt|2| | | | |53+0=53| | |; TRBD1*01;4;7;1;4;2;[1, 1];3;[1, 3, 0];[17];16;3;0.0662259;L36092|TRBV5-6*01|Homo sapiens|F|V-REGION|314963..315248|286 nt|1| | | | |286+0=286| | |;L36092|TRBJ1-6*02|Homo sapiens|F|J-REGION|643043..643095|53 nt|2| | | | |53+0=53| | |; TRBD1*01;4;6;2;3;2;[1, 1];2;[3, 0];[17];16;4;0.0395124;L36092|TRBV5-6*01|Homo sapiens|F|V-REGION|314963..315248|286 nt|1| | | | |286+0=286| | |;L36092|TRBJ1-6*02|Homo sapiens|F|J-REGION|643043..643095|53 nt|2| | | | |53+0=53| | |; TRBD1*01;4;8;1;3;2;[1, 1];3;[3, 0, 2];[17];16;5;0.0306561;L36092|TRBV5-6*01|Homo sapiens|F|V-REGION|314963..315248|286 nt|1| | | | |286+0=286| | |;L36092|TRBJ1-6*02|Homo sapiens|F|J-REGION|643043..643095|53 nt|2| | | | |53+0=53| | |; TRBD1*01;4;6;2;4;2;[1, 1];3;[1, 3, 0];[17];13;1;0.395908;X61440|TRBV7-3*01|Homo sapiens|F|V-REGION|748..1037|290 nt|1| | | | |290+0=290| | |;X02987|TRBJ2-5*01|Homo sapiens|F|J-REGION|1553..1600|48 nt|3| | | | |48+0=48| | |; TRBD2*01;4;4;3;4;6;[1, 3, 2, 2, 2, 2];7;[2, 0, 2, 1, 2, 1, 1];[];03;2;0.155941;X61440|TRBV7-3*01|Homo sapiens|F|V-REGION|748..1037|290 nt|1| | | | |290+0=290| | |;X02987|TRBJ2-5*01|Homo sapiens|F|J-REGION|1553..1600|48 nt|3| | | | |48+0=48| | |; TRBD2*01;4;4;3;5;6;[1, 3, 2, 2, 2, 2];8;[0, 2, 0, 2, 1, 2, 1, 1];[];03;3;0.115015;X61440|TRBV7-3*01|Homo sapiens|F|V-REGION|748..1037|290 nt|1| | | | |290+0=290| | |;X02987|TRBJ2-5*01|Homo sapiens|F|J-REGION|1553..1600|48 nt|3| | | | |48+0=48| | |; TRBD2*01;5;4;3;4;7;[3, 1, 3, 2, 2, 2, 2];7;[2, 0, 2, 1, 2, 1, 1];[];03;4;0.0547753;X61440|TRBV7-3*01|Homo sapiens|F|V-REGION|748..1037|290 nt|1| | | | |290+0=290| | |;X02987|TRBJ2-5*01|Homo sapiens|F|J-REGION|1553..1600|48 nt|3| | | | |48+0=48| | |; TRBD2*01;4;5;3;4;7;[1, 3, 2, 2, 2, 2, 1];7;[2, 0, 2, 1, 2, 1, 1];[];03;5;0.0522827;X61440|TRBV7-3*01|Homo sapiens|F|V-REGION|748..1037|290 nt|1| | | | |290+0=290| | |;X02987|TRBJ2-5*01|Homo sapiens|F|J-REGION|1553..1600|48 nt|3| | | | |48+0=48| | |; TRBD2*01;4;4;4;4;6;[1, 3, 2, 2, 2, 2];8;[2, 0, 2, 1, 2, 1, 1, 2];[];08;1;0.0944116;L36092|TRBV7-7*03|Homo sapiens|F|V-REGION|326549..326838|290 nt|1| | | | |290+0=290| Discovered Allele in Data | Found by BLAST |;X02987|TRBJ2-2*01|Homo sapiens|F|J-REGION|995..1045|51 nt|3| | | | |51+0=51| | |; TRBD2*01;5;2;11;1;2;[2, 3];0;[];[];08;2;0.0741844;L36092|TRBV7-7*03|Homo sapiens|F|V-REGION|326549..326838|290 nt|1| | | | |290+0=290| Discovered Allele in Data | Found by BLAST |;X02987|TRBJ2-2*01|Homo sapiens|F|J-REGION|995..1045|51 nt|3| | | | |51+0=51| | |; TRBD1*01;5;2;7;1;2;[2, 3];0;[];[];08;3;0.0519349;L36092|TRBV7-7*03|Homo sapiens|F|V-REGION|326549..326838|290 nt|1| | | | |290+0=290| Discovered Allele in Data | Found by BLAST |;X02987|TRBJ2-2*01|Homo sapiens|F|J-REGION|995..1045|51 nt|3| | | | |51+0=51| | |; TRBD2*01;5;2;11;2;2;[2, 3];1;[2];[];08;4;0.0408081;L36092|TRBV7-7*03|Homo sapiens|F|V-REGION|326549..326838|290 nt|1| | | | |290+0=290| Discovered Allele in Data | Found by BLAST |;X02987|TRBJ2-2*01|Homo sapiens|F|J-REGION|995..1045|51 nt|3| | | | |51+0=51| | |; TRBD1*01;5;2;7;2;2;[2, 3];1;[2];[];08;5;0.0389495;L36092|TRBV7-7*03|Homo sapiens|F|V-REGION|326549..326838|290 nt|1| | | | |290+0=290| Discovered Allele in Data | Found by BLAST |;X02987|TRBJ2-2*01|Homo sapiens|F|J-REGION|995..1045|51 nt|3| | | | |51+0=51| | |; TRBD2*02;5;2;11;1;2;[2, 3];0;[];[];01;1;0.0869022;AF009662|TRBV6-6*02|Homo sapiens|F|V-REGION|24864..25150|287 nt|1| | | | |287+0=287| | |;K02545|TRBJ1-2*01|Homo sapiens|F|J-REGION|886..933|48 nt|3| | | | |48+0=48| | |; TRBD2*01;3;8;2;8;0;[];4;[1, 1, 2, 0];[];01;2;0.086837;L36092|TRBV6-6*01|Homo sapiens|F|V-REGION|284442..284728|287 nt|1| | | | |287+0=287| | |;K02545|TRBJ1-2*01|Homo sapiens|F|J-REGION|886..933|48 nt|3| | | | |48+0=48| | |; TRBD2*01;3;8;2;8;0;[];4;[1, 1, 2, 0];[];01;3;0.0472684;AF009662|TRBV6-6*02|Homo sapiens|F|V-REGION|24864..25150|287 nt|1| | | | |287+0=287| | |;K02545|TRBJ1-2*01|Homo sapiens|F|J-REGION|886..933|48 nt|3| | | | |48+0=48| | |; TRBD2*01;3;8;3;8;0;[];5;[1, 1, 2, 0, 2];[];01;4;0.047233;L36092|TRBV6-6*01|Homo sapiens|F|V-REGION|284442..284728|287 nt|1| | | | |287+0=287| | |;K02545|TRBJ1-2*01|Homo sapiens|F|J-REGION|886..933|48 nt|3| | | | |48+0=48| | |; TRBD2*01;3;8;3;8;0;[];5;[1, 1, 2, 0, 2];[];01;5;0.02142;L36092|TRBV6-6*01|Homo sapiens|F|V-REGION|284442..284728|287 nt|1| | | | |287+0=287| | |;K02545|TRBJ1-2*01|Homo sapiens|F|J-REGION|886..933|48 nt|3| | | | |48+0=48| | |; TRBD2*01;5;8;2;8;2;[3, 0];4;[1, 1, 2, 0];[];09;1;0.0830978;M64351|TRBV2*03|Homo sapiens|(F)|V-REGION|82..369|288 nt|1| | | | |288+0=288| Extended by 2 | |;X02987|TRBJ2-5*01|Homo sapiens|F|J-REGION|1553..1600|48 nt|3| | | | |48+0=48| | |; TRBD1*01;6;4;4;4;4;[2, 2, 2, 2];1;[3];[];09;2;0.0751573;U66059|TRBV2*01|Homo sapiens|F|V-REGION|93697..93986|290 nt|1| | | | |290+0=290| | |;X02987|TRBJ2-5*01|Homo sapiens|F|J-REGION|1553..1600|48 nt|3| | | | |48+0=48| | |; TRBD1*01;6;4;4;4;4;[2, 2, 2, 2];1;[3];[];09;3;0.073149;M64351|TRBV2*03|Homo sapiens|(F)|V-REGION|82..369|288 nt|1| | | | |288+0=288| Extended by 2 | |;X02987|TRBJ2-5*01|Homo sapiens|F|J-REGION|1553..1600|48 nt|3| | | | |48+0=48| | |; TRBD1*01;6;4;4;5;4;[2, 2, 2, 2];2;[0, 3];[];09;4;0.0661592;U66059|TRBV2*01|Homo sapiens|F|V-REGION|93697..93986|290 nt|1| | | | |290+0=290| | |;X02987|TRBJ2-5*01|Homo sapiens|F|J-REGION|1553..1600|48 nt|3| | | | |48+0=48| | |; TRBD1*01;6;4;4;5;4;[2, 2, 2, 2];2;[0, 3];[];09;5;0.0552727;M64351|TRBV2*03|Homo sapiens|(F)|V-REGION|82..369|288 nt|1| | | | |288+0=288| Extended by 2 | |;X02987|TRBJ2-5*01|Homo sapiens|F|J-REGION|1553..1600|48 nt|3| | | | |48+0=48| | |; TRBD1*01;6;4;5;4;4;[2, 2, 2, 2];2;[3, 2];[];010;1;0.0951136;U08314|TRBV28*01|Homo sapiens|F|V-REGION|408..694|287 nt|1| | | | |287+0=287| | |;K02545|TRBJ1-1*01|Homo sapiens|F|J-REGION|749..796|48 nt|3| | | | |48+0=48| | |; TRBD2*02;2;13;-1;16;3;[1, 2, 3];10;[2, 2, 3, 3, 2, 2, 1, 0, 2, 3];[77];110;2;0.0854586;U08314|TRBV28*01|Homo sapiens|F|V-REGION|408..694|287 nt|1| | | | |287+0=287| | |;K02545|TRBJ1-1*01|Homo sapiens|F|J-REGION|749..796|48 nt|3| | | | |48+0=48| | |; TRBD1*01;2;2;7;16;8;[1, 2, 3, 2, 2, 2, 1, 3];6;[2, 2, 3, 3, 2, 2];[77];110;3;0.0795903;U08314|TRBV28*01|Homo sapiens|F|V-REGION|408..694|287 nt|1| | | | |287+0=287| | |;K02545|TRBJ1-1*01|Homo sapiens|F|J-REGION|749..796|48 nt|3| | | | |48+0=48| | |; TRBD2*02;2;2;11;16;8;[1, 2, 3, 2, 2, 2, 1, 3];6;[2, 2, 3, 3, 2, 2];[77];110;4;0.0669697;U08314|TRBV28*01|Homo sapiens|F|V-REGION|408..694|287 nt|1| | | | |287+0=287| | |;K02545|TRBJ1-1*01|Homo sapiens|F|J-REGION|749..796|48 nt|3| | | | |48+0=48| | |; TRBD1*01;2;8;0;16;3;[1, 2, 3];10;[2, 2, 3, 3, 2, 2, 1, 0, 2, 3];[77];110;5;0.059529;U08314|TRBV28*01|Homo sapiens|F|V-REGION|408..694|287 nt|1| | | | |287+0=287| | |;K02545|TRBJ1-1*01|Homo sapiens|F|J-REGION|749..796|48 nt|3| | | | |48+0=48| | |; TRBD2*02;3;13;-1;16;4;[0, 1, 2, 3];10;[2, 2, 3, 3, 2, 2, 1, 0, 2, 3];[77];17;1;0.109048;M11953|TRBV7-8*01|Homo sapiens|F|V-REGION|215..504|290 nt|1| | | | |290+0=290| | |;M14158|TRBJ1-5*01|Homo sapiens|F|J-REGION|2368..2417|50 nt|2| | | | |50+0=50| | |; TRBD2*02;2;11;0;1;1;[1];6;[1, 2, 2, 0, 2, 2];[];07;2;0.0872785;M11953|TRBV7-8*01|Homo sapiens|F|V-REGION|215..504|290 nt|1| | | | |290+0=290| | |;M14158|TRBJ1-5*01|Homo sapiens|F|J-REGION|2368..2417|50 nt|2| | | | |50+0=50| | |; TRBD2*02;2;9;1;1;5;[1, 2, 0, 2, 2];1;[1];[];07;3;0.0653817;M11953|TRBV7-8*01|Homo sapiens|F|V-REGION|215..504|290 nt|1| | | | |290+0=290| | |;M14158|TRBJ1-5*01|Homo sapiens|F|J-REGION|2368..2417|50 nt|2| | | | |50+0=50| | |; TRBD2*02;2;9;1;2;5;[1, 2, 0, 2, 2];2;[0, 1];[];07;4;0.0437485;M11953|TRBV7-8*01|Homo sapiens|F|V-REGION|215..504|290 nt|1| | | | |290+0=290| | |;M14158|TRBJ1-5*01|Homo sapiens|F|J-REGION|2368..2417|50 nt|2| | | | |50+0=50| | |; TRBD2*02;2;9;3;1;5;[1, 2, 0, 2, 2];3;[1, 2, 2];[];07;5;0.0430056;M11953|TRBV7-8*01|Homo sapiens|F|V-REGION|215..504|290 nt|1| | | | |290+0=290| | |;M14158|TRBJ1-5*01|Homo sapiens|F|J-REGION|2368..2417|50 nt|2| | | | |50+0=50| | |; TRBD2*02;2;12;0;1;2;[1, 2];6;[1, 2, 2, 0, 2, 2];[];00;1;0.117948;L36092|TRBV29-1*01|Homo sapiens|F|V-REGION|574270..574559|290 nt|1| | | | |290+0=290| | |;X02987|TRBJ2-2*01|Homo sapiens|F|J-REGION|995..1045|51 nt|3| | | | |51+0=51| | |; TRBD2*02;4;11;0;5;7;[3, 0, 2, 3, 2, 3, 3];5;[2, 2, 1, 0, 2];[];00;2;0.117596;M13847|TRBV29-1*02|Homo sapiens|(F)|V-REGION|17..304|288 nt|1| | | | |288+0=288| | |;X02987|TRBJ2-2*01|Homo sapiens|F|J-REGION|995..1045|51 nt|3| | | | |51+0=51| | |; TRBD2*02;4;11;0;5;7;[3, 0, 2, 3, 2, 3, 3];5;[2, 2, 1, 0, 2];[];00;3;0.0282379;L36092|TRBV29-1*01|Homo sapiens|F|V-REGION|574270..574559|290 nt|1| | | | |290+0=290| | |;X02987|TRBJ2-2*01|Homo sapiens|F|J-REGION|995..1045|51 nt|3| | | | |51+0=51| | |; TRBD1*01;4;5;2;5;8;[3, 0, 2, 3, 2, 3, 3, 2];4;[2, 2, 1, 0];[];00;4;0.0282128;M13847|TRBV29-1*02|Homo sapiens|(F)|V-REGION|17..304|288 nt|1| | | | |288+0=288| | |;X02987|TRBJ2-2*01|Homo sapiens|F|J-REGION|995..1045|51 nt|3| | | | |51+0=51| | |; TRBD1*01;4;5;2;5;8;[3, 0, 2, 3, 2, 3, 3, 2];4;[2, 2, 1, 0];[];00;5;0.0190059;L36092|TRBV29-1*01|Homo sapiens|F|V-REGION|574270..574559|290 nt|1| | | | |290+0=290| | |;X02987|TRBJ2-2*01|Homo sapiens|F|J-REGION|995..1045|51 nt|3| | | | |51+0=51| | |; TRBD2*02;4;0;11;5;10;[3, 0, 2, 3, 2, 3, 3, 2, 0, 2];2;[2, 2];[];011;1;0.171631;U66059|TRBV9*01|Homo sapiens|F|V-REGION|206836..207121|286 nt|1| | | | |286+0=286| | |;K02545|TRBJ1-2*01|Homo sapiens|F|J-REGION|886..933|48 nt|3| | | | |48+0=48| | |; TRBD1*01;3;5;2;7;0;[];5;[2, 2, 3, 3, 1];[];011;2;0.130857;U66059|TRBV9*01|Homo sapiens|F|V-REGION|206836..207121|286 nt|1| | | | |286+0=286| | |;K02545|TRBJ1-2*01|Homo sapiens|F|J-REGION|886..933|48 nt|3| | | | |48+0=48| | |; TRBD1*01;3;7;0;7;1;[0];4;[2, 2, 3, 3];[];011;3;0.0721085;U66059|TRBV9*01|Homo sapiens|F|V-REGION|206836..207121|286 nt|1| | | | |286+0=286| | |;K02545|TRBJ1-2*01|Homo sapiens|F|J-REGION|886..933|48 nt|3| | | | |48+0=48| | |; TRBD1*01;4;7;0;7;2;[2, 0];4;[2, 2, 3, 3];[];011;4;0.0430597;U66059|TRBV9*01|Homo sapiens|F|V-REGION|206836..207121|286 nt|1| | | | |286+0=286| | |;K02545|TRBJ1-2*01|Homo sapiens|F|J-REGION|886..933|48 nt|3| | | | |48+0=48| | |; TRBD1*01;4;5;2;7;1;[2];5;[2, 2, 3, 3, 1];[];011;5;0.039449;U66059|TRBV9*01|Homo sapiens|F|V-REGION|206836..207121|286 nt|1| | | | |286+0=286| | |;K02545|TRBJ1-2*01|Homo sapiens|F|J-REGION|886..933|48 nt|3| | | | |48+0=48| | |; TRBD1*01;3;5;2;8;0;[];6;[3, 2, 2, 3, 3, 1];[];013;1;0.111541;L36092|TRBV5-8*01|Homo sapiens|F|V-REGION|355117..355402|286 nt|1| | | | |286+0=286| | |;M14158|TRBJ1-4*01|Homo sapiens|F|J-REGION|2095..2145|51 nt|3| | | | |51+0=51| | |; TRBD1*01;10;7;1;5;13;[2, 3, 1, 2, 0, 0, 2, 1, 2, 1, 3, 1, 1];1;[2];[];013;2;0.0628513;L36092|TRBV5-8*01|Homo sapiens|F|V-REGION|355117..355402|286 nt|1| | | | |286+0=286| | |;M14158|TRBJ1-4*01|Homo sapiens|F|J-REGION|2095..2145|51 nt|3| | | | |51+0=51| | |; TRBD1*01;10;7;1;6;13;[2, 3, 1, 2, 0, 0, 2, 1, 2, 1, 3, 1, 1];2;[0, 2];[];013;3;0.0591941;L36092|TRBV5-8*01|Homo sapiens|F|V-REGION|355117..355402|286 nt|1| | | | |286+0=286| | |;M14158|TRBJ1-4*01|Homo sapiens|F|J-REGION|2095..2145|51 nt|3| | | | |51+0=51| | |; TRBD1*01;10;8;1;5;13;[2, 3, 1, 2, 0, 0, 2, 1, 2, 1, 3, 1, 1];2;[2, 2];[];013;4;0.0508164;L36092|TRBV5-8*01|Homo sapiens|F|V-REGION|355117..355402|286 nt|1| | | | |286+0=286| | |;M14158|TRBJ1-4*01|Homo sapiens|F|J-REGION|2095..2145|51 nt|3| | | | |51+0=51| | |; TRBD1*01;10;6;2;5;13;[2, 3, 1, 2, 0, 0, 2, 1, 2, 1, 3, 1, 1];1;[2];[];013;5;0.0450073;L36092|TRBV5-8*01|Homo sapiens|F|V-REGION|355117..355402|286 nt|1| | | | |286+0=286| | |;M14158|TRBJ1-4*01|Homo sapiens|F|J-REGION|2095..2145|51 nt|3| | | | |51+0=51| | |; TRBD1*01;10;7;2;5;13;[2, 3, 1, 2, 0, 0, 2, 1, 2, 1, 3, 1, 1];2;[2, 2];[];014;1;0.221708;U66059|TRBV5-1*01|Homo sapiens|F|V-REGION|113806..114091|286 nt|1| | | | |286+0=286| | |;X02987|TRBJ2-6*01|Homo sapiens|F|J-REGION|1673..1725|53 nt|2| | | | |53+0=53| | |; TRBD1*01;2;2;3;2;1;[3];0;[];[];014;2;0.168844;U66059|TRBV5-1*01|Homo sapiens|F|V-REGION|113806..114091|286 nt|1| | | | |286+0=286| | |;X02987|TRBJ2-6*01|Homo sapiens|F|J-REGION|1673..1725|53 nt|2| | | | |53+0=53| | |; TRBD1*01;3;2;3;2;2;[3, 3];0;[];[];014;3;0.0806854;U66059|TRBV5-1*01|Homo sapiens|F|V-REGION|113806..114091|286 nt|1| | | | |286+0=286| | |;X02987|TRBJ2-6*01|Homo sapiens|F|J-REGION|1673..1725|53 nt|2| | | | |53+0=53| | |; TRBD1*01;4;2;3;2;3;[3, 3, 3];0;[];[];014;4;0.0626278;U66059|TRBV5-1*01|Homo sapiens|F|V-REGION|113806..114091|286 nt|1| | | | |286+0=286| | |;X02987|TRBJ2-6*01|Homo sapiens|F|J-REGION|1673..1725|53 nt|2| | | | |53+0=53| | |; TRBD1*01;2;3;3;2;2;[3, 2];0;[];[];014;5;0.035004;U66059|TRBV5-1*01|Homo sapiens|F|V-REGION|113806..114091|286 nt|1| | | | |286+0=286| | |;X02987|TRBJ2-6*01|Homo sapiens|F|J-REGION|1673..1725|53 nt|2| | | | |53+0=53| | |; TRBD1*01;2;4;3;2;3;[3, 2, 0];0;[];[];015;1;0.445392;M11953|TRBV7-8*01|Homo sapiens|F|V-REGION|215..504|290 nt|1| | | | |290+0=290| | |;K02545|TRBJ1-1*01|Homo sapiens|F|J-REGION|749..796|48 nt|3| | | | |48+0=48| | |; TRBD1*01;2;9;0;3;5;[2, 3, 1, 2, 3];2;[3, 0];[];015;2;0.136203;M11953|TRBV7-8*01|Homo sapiens|F|V-REGION|215..504|290 nt|1| | | | |290+0=290| | |;K02545|TRBJ1-1*01|Homo sapiens|F|J-REGION|749..796|48 nt|3| | | | |48+0=48| | |; TRBD1*01;2;9;0;4;5;[2, 3, 1, 2, 3];3;[0, 3, 0];[];015;3;0.0998498;M11953|TRBV7-8*01|Homo sapiens|F|V-REGION|215..504|290 nt|1| | | | |290+0=290| | |;K02545|TRBJ1-1*01|Homo sapiens|F|J-REGION|749..796|48 nt|3| | | | |48+0=48| | |; TRBD1*01;2;9;1;3;5;[2, 3, 1, 2, 3];3;[3, 0, 1];[];015;4;0.03291;M11953|TRBV7-8*01|Homo sapiens|F|V-REGION|215..504|290 nt|1| | | | |290+0=290| | |;K02545|TRBJ1-1*01|Homo sapiens|F|J-REGION|749..796|48 nt|3| | | | |48+0=48| | |; TRBD1*01;2;9;1;4;5;[2, 3, 1, 2, 3];4;[0, 3, 0, 1];[];015;5;0.0244617;M11953|TRBV7-8*01|Homo sapiens|F|V-REGION|215..504|290 nt|1| | | | |290+0=290| | |;K02545|TRBJ1-1*01|Homo sapiens|F|J-REGION|749..796|48 nt|3| | | | |48+0=48| | |; TRBD1*01;2;9;0;5;5;[2, 3, 1, 2, 3];4;[1, 0, 3, 0];[];012;1;0.177428;U07978|TRBV6-3*01|Homo sapiens|F|V-REGION|29129..29415|287 nt|1| | | | |287+0=287| | |;M14158|TRBJ1-5*01|Homo sapiens|F|J-REGION|2368..2417|50 nt|2| | | | |50+0=50| | |; TRBD1*01;4;3;0;7;1;[1];4;[2, 2, 2, 0];[];012;2;0.170648;X61445|TRBV6-2*01|Homo sapiens|F|V-REGION|412..698|287 nt|1| | | | |287+0=287| | |;M14158|TRBJ1-5*01|Homo sapiens|F|J-REGION|2368..2417|50 nt|2| | | | |50+0=50| | |; TRBD1*01;4;3;0;7;1;[1];4;[2, 2, 2, 0];[];012;3;0.0879212;X61445|TRBV6-2*01|Homo sapiens|F|V-REGION|412..698|287 nt|1| | | | |287+0=287| | |;M14158|TRBJ1-5*01|Homo sapiens|F|J-REGION|2368..2417|50 nt|2| | | | |50+0=50| | |; TRBD1*01;5;3;0;7;2;[3, 1];4;[2, 2, 2, 0];[];012;4;0.0753727;U07978|TRBV6-3*01|Homo sapiens|F|V-REGION|29129..29415|287 nt|1| | | | |287+0=287| | |;M14158|TRBJ1-5*01|Homo sapiens|F|J-REGION|2368..2417|50 nt|2| | | | |50+0=50| | |; TRBD1*01;5;3;0;7;2;[3, 1];4;[2, 2, 2, 0];[];012;5;0.059337;U07978|TRBV6-3*01|Homo sapiens|F|V-REGION|29129..29415|287 nt|1| | | | |287+0=287| | |;M14158|TRBJ1-5*01|Homo sapiens|F|J-REGION|2368..2417|50 nt|2| | | | |50+0=50| | |; TRBD1*01;4;4;0;7;2;[1, 0];4;[2, 2, 2, 0];[];0"
     ]
    }
   ],
   "source": [
    "!head {fln_output_scenarios_names}"
   ]
  },
  {
   "cell_type": "code",
   "execution_count": 88,
   "metadata": {},
   "outputs": [
    {
     "data": {
      "text/plain": [
       "'6;1;0.145365;(55);(6);(0);(8);(11);(5);(7);(2);(1,1);(2);(3,0);(17)'"
      ]
     },
     "execution_count": 88,
     "metadata": {},
     "output_type": "execute_result"
    }
   ],
   "source": [
    "line #= \"1;5;0.02142;(63);(1);(1);(9);(12);(6);(12);(2);(3,0);(4);(1,1,2,0);()\"\n",
    "\n"
   ]
  },
  {
   "cell_type": "code",
   "execution_count": 84,
   "metadata": {},
   "outputs": [
    {
     "data": {
      "text/plain": [
       "4"
      ]
     },
     "execution_count": 84,
     "metadata": {},
     "output_type": "execute_result"
    }
   ],
   "source": [
    "(4)"
   ]
  },
  {
   "cell_type": "code",
   "execution_count": 89,
   "metadata": {},
   "outputs": [
    {
     "name": "stdout",
     "output_type": "stream",
     "text": [
      "55 <class 'str'> 2\n",
      "object of type 'int' has no len()\n"
     ]
    },
    {
     "ename": "TypeError",
     "evalue": "object of type 'int' has no len()",
     "output_type": "error",
     "traceback": [
      "\u001b[0;31m---------------------------------------------------------------------------\u001b[0m",
      "\u001b[0;31mTypeError\u001b[0m                                 Traceback (most recent call last)",
      "\u001b[0;32m<ipython-input-89-73c48d9df8ba>\u001b[0m in \u001b[0;36m<module>\u001b[0;34m\u001b[0m\n\u001b[0;32m----> 1\u001b[0;31m \u001b[0mbs\u001b[0m \u001b[0;34m=\u001b[0m \u001b[0mp3\u001b[0m\u001b[0;34m.\u001b[0m\u001b[0mIgorBestScenariosVDJ\u001b[0m\u001b[0;34m.\u001b[0m\u001b[0mload_FromLineBestScenario\u001b[0m\u001b[0;34m(\u001b[0m\u001b[0mline\u001b[0m\u001b[0;34m)\u001b[0m\u001b[0;34m\u001b[0m\u001b[0;34m\u001b[0m\u001b[0m\n\u001b[0m",
      "\u001b[0;32m~/Dropbox/PosDoc/IGoR/dev/MyGithub/pygor3/pygor3/IgorBestScenarios.py\u001b[0m in \u001b[0;36mload_FromLineBestScenario\u001b[0;34m(cls, line, delimiter)\u001b[0m\n\u001b[1;32m    150\u001b[0m         \u001b[0;32mexcept\u001b[0m \u001b[0mException\u001b[0m \u001b[0;32mas\u001b[0m \u001b[0me\u001b[0m\u001b[0;34m:\u001b[0m\u001b[0;34m\u001b[0m\u001b[0;34m\u001b[0m\u001b[0m\n\u001b[1;32m    151\u001b[0m             \u001b[0mprint\u001b[0m\u001b[0;34m(\u001b[0m\u001b[0me\u001b[0m\u001b[0;34m)\u001b[0m\u001b[0;34m\u001b[0m\u001b[0;34m\u001b[0m\u001b[0m\n\u001b[0;32m--> 152\u001b[0;31m             \u001b[0;32mraise\u001b[0m \u001b[0me\u001b[0m\u001b[0;34m\u001b[0m\u001b[0;34m\u001b[0m\u001b[0m\n\u001b[0m\u001b[1;32m    153\u001b[0m \u001b[0;34m\u001b[0m\u001b[0m\n\u001b[1;32m    154\u001b[0m \u001b[0;34m\u001b[0m\u001b[0m\n",
      "\u001b[0;32m~/Dropbox/PosDoc/IGoR/dev/MyGithub/pygor3/pygor3/IgorBestScenarios.py\u001b[0m in \u001b[0;36mload_FromLineBestScenario\u001b[0;34m(cls, line, delimiter)\u001b[0m\n\u001b[1;32m    144\u001b[0m             \u001b[0mcls\u001b[0m\u001b[0;34m.\u001b[0m\u001b[0mdj_dinucl\u001b[0m      \u001b[0;34m=\u001b[0m \u001b[0meval\u001b[0m\u001b[0;34m(\u001b[0m\u001b[0mlinesplit\u001b[0m\u001b[0;34m[\u001b[0m\u001b[0;36m13\u001b[0m\u001b[0;34m]\u001b[0m\u001b[0;34m.\u001b[0m\u001b[0mreplace\u001b[0m\u001b[0;34m(\u001b[0m\u001b[0;34m\"(\"\u001b[0m\u001b[0;34m,\u001b[0m\u001b[0;34m\"[\"\u001b[0m\u001b[0;34m)\u001b[0m\u001b[0;34m.\u001b[0m\u001b[0mreplace\u001b[0m\u001b[0;34m(\u001b[0m\u001b[0;34m\")\"\u001b[0m\u001b[0;34m,\u001b[0m\u001b[0;34m\"]\"\u001b[0m\u001b[0;34m)\u001b[0m\u001b[0;34m)\u001b[0m\u001b[0;34m\u001b[0m\u001b[0;34m\u001b[0m\u001b[0m\n\u001b[1;32m    145\u001b[0m             \u001b[0mcls\u001b[0m\u001b[0;34m.\u001b[0m\u001b[0mmismatches\u001b[0m     \u001b[0;34m=\u001b[0m \u001b[0meval\u001b[0m\u001b[0;34m(\u001b[0m\u001b[0mlinesplit\u001b[0m\u001b[0;34m[\u001b[0m\u001b[0;36m14\u001b[0m\u001b[0;34m]\u001b[0m\u001b[0;34m.\u001b[0m\u001b[0mreplace\u001b[0m\u001b[0;34m(\u001b[0m\u001b[0;34m\"(\"\u001b[0m\u001b[0;34m,\u001b[0m\u001b[0;34m\"[\"\u001b[0m\u001b[0;34m)\u001b[0m\u001b[0;34m.\u001b[0m\u001b[0mreplace\u001b[0m\u001b[0;34m(\u001b[0m\u001b[0;34m\")\"\u001b[0m\u001b[0;34m,\u001b[0m\u001b[0;34m\"]\"\u001b[0m\u001b[0;34m)\u001b[0m\u001b[0;34m)\u001b[0m\u001b[0;34m\u001b[0m\u001b[0;34m\u001b[0m\u001b[0m\n\u001b[0;32m--> 146\u001b[0;31m             \u001b[0mcls\u001b[0m\u001b[0;34m.\u001b[0m\u001b[0mmismatcheslen\u001b[0m  \u001b[0;34m=\u001b[0m \u001b[0mint\u001b[0m\u001b[0;34m(\u001b[0m\u001b[0mlen\u001b[0m\u001b[0;34m(\u001b[0m\u001b[0mcls\u001b[0m\u001b[0;34m.\u001b[0m\u001b[0mmismatches\u001b[0m\u001b[0;34m)\u001b[0m\u001b[0;34m)\u001b[0m\u001b[0;34m\u001b[0m\u001b[0;34m\u001b[0m\u001b[0m\n\u001b[0m\u001b[1;32m    147\u001b[0m \u001b[0;34m\u001b[0m\u001b[0m\n\u001b[1;32m    148\u001b[0m             \u001b[0;32mreturn\u001b[0m \u001b[0mcls\u001b[0m\u001b[0;34m\u001b[0m\u001b[0;34m\u001b[0m\u001b[0m\n",
      "\u001b[0;31mTypeError\u001b[0m: object of type 'int' has no len()"
     ]
    }
   ],
   "source": [
    "bs = p3.IgorBestScenariosVDJ.load_FromLineBestScenario(line)"
   ]
  },
  {
   "cell_type": "code",
   "execution_count": 72,
   "metadata": {},
   "outputs": [
    {
     "name": "stdout",
     "output_type": "stream",
     "text": [
      "55 <class 'str'> 2\n",
      "object of type 'int' has no len()\n"
     ]
    },
    {
     "ename": "TypeError",
     "evalue": "object of type 'int' has no len()",
     "output_type": "error",
     "traceback": [
      "\u001b[0;31m---------------------------------------------------------------------------\u001b[0m",
      "\u001b[0;31mTypeError\u001b[0m                                 Traceback (most recent call last)",
      "\u001b[0;32m<ipython-input-72-745da7c66df5>\u001b[0m in \u001b[0;36m<module>\u001b[0;34m\u001b[0m\n\u001b[0;32m----> 1\u001b[0;31m \u001b[0mbs\u001b[0m \u001b[0;34m=\u001b[0m \u001b[0mp3\u001b[0m\u001b[0;34m.\u001b[0m\u001b[0mIgorBestScenariosVDJ\u001b[0m\u001b[0;34m.\u001b[0m\u001b[0mload_FromLineBestScenario\u001b[0m\u001b[0;34m(\u001b[0m\u001b[0mline\u001b[0m\u001b[0;34m)\u001b[0m\u001b[0;34m\u001b[0m\u001b[0;34m\u001b[0m\u001b[0m\n\u001b[0m\u001b[1;32m      2\u001b[0m \u001b[0mbs\u001b[0m\u001b[0;34m.\u001b[0m\u001b[0mmdlParms\u001b[0m \u001b[0;34m=\u001b[0m \u001b[0mtask\u001b[0m\u001b[0;34m.\u001b[0m\u001b[0mmdl\u001b[0m\u001b[0;34m.\u001b[0m\u001b[0mparms\u001b[0m\u001b[0;34m\u001b[0m\u001b[0;34m\u001b[0m\u001b[0m\n\u001b[1;32m      3\u001b[0m \u001b[0mprint\u001b[0m\u001b[0;34m(\u001b[0m\u001b[0mbs\u001b[0m\u001b[0;34m)\u001b[0m\u001b[0;34m\u001b[0m\u001b[0;34m\u001b[0m\u001b[0m\n\u001b[1;32m      4\u001b[0m \u001b[0maaa\u001b[0m \u001b[0;34m=\u001b[0m \u001b[0mstrSepChar\u001b[0m\u001b[0;34m.\u001b[0m\u001b[0mjoin\u001b[0m\u001b[0;34m(\u001b[0m \u001b[0mlist\u001b[0m\u001b[0;34m(\u001b[0m\u001b[0mmap\u001b[0m\u001b[0;34m(\u001b[0m\u001b[0mstr\u001b[0m\u001b[0;34m,\u001b[0m \u001b[0mbs\u001b[0m\u001b[0;34m.\u001b[0m\u001b[0mto_dict_names\u001b[0m\u001b[0;34m(\u001b[0m\u001b[0;34m)\u001b[0m\u001b[0;34m.\u001b[0m\u001b[0mvalues\u001b[0m\u001b[0;34m(\u001b[0m\u001b[0;34m)\u001b[0m \u001b[0;34m)\u001b[0m \u001b[0;34m)\u001b[0m \u001b[0;34m)\u001b[0m\u001b[0;34m\u001b[0m\u001b[0;34m\u001b[0m\u001b[0m\n",
      "\u001b[0;32m~/Dropbox/PosDoc/IGoR/dev/MyGithub/pygor3/pygor3/IgorBestScenarios.py\u001b[0m in \u001b[0;36mload_FromLineBestScenario\u001b[0;34m(cls, line, delimiter)\u001b[0m\n\u001b[1;32m    150\u001b[0m         \u001b[0;32mexcept\u001b[0m \u001b[0mException\u001b[0m \u001b[0;32mas\u001b[0m \u001b[0me\u001b[0m\u001b[0;34m:\u001b[0m\u001b[0;34m\u001b[0m\u001b[0;34m\u001b[0m\u001b[0m\n\u001b[1;32m    151\u001b[0m             \u001b[0mprint\u001b[0m\u001b[0;34m(\u001b[0m\u001b[0me\u001b[0m\u001b[0;34m)\u001b[0m\u001b[0;34m\u001b[0m\u001b[0;34m\u001b[0m\u001b[0m\n\u001b[0;32m--> 152\u001b[0;31m             \u001b[0;32mraise\u001b[0m \u001b[0me\u001b[0m\u001b[0;34m\u001b[0m\u001b[0;34m\u001b[0m\u001b[0m\n\u001b[0m\u001b[1;32m    153\u001b[0m \u001b[0;34m\u001b[0m\u001b[0m\n\u001b[1;32m    154\u001b[0m \u001b[0;34m\u001b[0m\u001b[0m\n",
      "\u001b[0;32m~/Dropbox/PosDoc/IGoR/dev/MyGithub/pygor3/pygor3/IgorBestScenarios.py\u001b[0m in \u001b[0;36mload_FromLineBestScenario\u001b[0;34m(cls, line, delimiter)\u001b[0m\n\u001b[1;32m    144\u001b[0m             \u001b[0mcls\u001b[0m\u001b[0;34m.\u001b[0m\u001b[0mdj_dinucl\u001b[0m      \u001b[0;34m=\u001b[0m \u001b[0meval\u001b[0m\u001b[0;34m(\u001b[0m\u001b[0mlinesplit\u001b[0m\u001b[0;34m[\u001b[0m\u001b[0;36m13\u001b[0m\u001b[0;34m]\u001b[0m\u001b[0;34m)\u001b[0m\u001b[0;34m\u001b[0m\u001b[0;34m\u001b[0m\u001b[0m\n\u001b[1;32m    145\u001b[0m             \u001b[0mcls\u001b[0m\u001b[0;34m.\u001b[0m\u001b[0mmismatches\u001b[0m     \u001b[0;34m=\u001b[0m \u001b[0meval\u001b[0m\u001b[0;34m(\u001b[0m\u001b[0mlinesplit\u001b[0m\u001b[0;34m[\u001b[0m\u001b[0;36m14\u001b[0m\u001b[0;34m]\u001b[0m\u001b[0;34m)\u001b[0m\u001b[0;34m\u001b[0m\u001b[0;34m\u001b[0m\u001b[0m\n\u001b[0;32m--> 146\u001b[0;31m             \u001b[0mcls\u001b[0m\u001b[0;34m.\u001b[0m\u001b[0mmismatcheslen\u001b[0m  \u001b[0;34m=\u001b[0m \u001b[0mint\u001b[0m\u001b[0;34m(\u001b[0m\u001b[0mlen\u001b[0m\u001b[0;34m(\u001b[0m\u001b[0mcls\u001b[0m\u001b[0;34m.\u001b[0m\u001b[0mmismatches\u001b[0m\u001b[0;34m)\u001b[0m\u001b[0;34m)\u001b[0m\u001b[0;34m\u001b[0m\u001b[0;34m\u001b[0m\u001b[0m\n\u001b[0m\u001b[1;32m    147\u001b[0m \u001b[0;34m\u001b[0m\u001b[0m\n\u001b[1;32m    148\u001b[0m             \u001b[0;32mreturn\u001b[0m \u001b[0mcls\u001b[0m\u001b[0;34m\u001b[0m\u001b[0;34m\u001b[0m\u001b[0m\n",
      "\u001b[0;31mTypeError\u001b[0m: object of type 'int' has no len()"
     ]
    }
   ],
   "source": [
    "bs = p3.IgorBestScenariosVDJ.load_FromLineBestScenario(line)\n",
    "bs.mdlParms = task.mdl.parms\n",
    "print(bs)\n",
    "aaa = strSepChar.join( list(map(str, bs.to_dict_names().values() ) ) )"
   ]
  },
  {
   "cell_type": "code",
   "execution_count": null,
   "metadata": {},
   "outputs": [],
   "source": []
  }
 ],
 "metadata": {
  "kernelspec": {
   "display_name": "Python 3",
   "language": "python",
   "name": "python3"
  },
  "language_info": {
   "codemirror_mode": {
    "name": "ipython",
    "version": 3
   },
   "file_extension": ".py",
   "mimetype": "text/x-python",
   "name": "python",
   "nbconvert_exporter": "python",
   "pygments_lexer": "ipython3",
   "version": "3.7.6"
  }
 },
 "nbformat": 4,
 "nbformat_minor": 4
}
